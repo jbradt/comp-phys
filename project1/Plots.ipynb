{
 "cells": [
  {
   "cell_type": "code",
   "execution_count": null,
   "metadata": {
    "collapsed": false
   },
   "outputs": [],
   "source": [
    "%matplotlib inline"
   ]
  },
  {
   "cell_type": "code",
   "execution_count": null,
   "metadata": {
    "collapsed": false
   },
   "outputs": [],
   "source": [
    "import numpy as np\n",
    "import matplotlib.pyplot as plt\n",
    "import seaborn as sns\n",
    "import pandas as pd"
   ]
  },
  {
   "cell_type": "code",
   "execution_count": null,
   "metadata": {
    "collapsed": true
   },
   "outputs": [],
   "source": [
    "sns.set_color_codes()\n",
    "sns.set_style('ticks')"
   ]
  },
  {
   "cell_type": "code",
   "execution_count": null,
   "metadata": {
    "collapsed": true
   },
   "outputs": [],
   "source": [
    "def exact(x):\n",
    "    return 1 - (1 - np.exp(-10)) * x - np.exp(-10 * x)"
   ]
  },
  {
   "cell_type": "code",
   "execution_count": null,
   "metadata": {
    "collapsed": true
   },
   "outputs": [],
   "source": [
    "def findDev(df):\n",
    "    return np.log10(np.abs(df['Result'] - df['Exact']) / df['Exact'])"
   ]
  },
  {
   "cell_type": "code",
   "execution_count": null,
   "metadata": {
    "collapsed": false
   },
   "outputs": [],
   "source": [
    "res10 = pd.read_table('res10.txt', delim_whitespace=True)\n",
    "res100 = pd.read_table('res100.txt', delim_whitespace=True)\n",
    "res1000 = pd.read_table('res1000.txt', delim_whitespace=True)\n",
    "res10000 = pd.read_table('res10000.txt', delim_whitespace=True)\n",
    "res100000 = pd.read_table('res100000.txt', delim_whitespace=True)"
   ]
  },
  {
   "cell_type": "code",
   "execution_count": null,
   "metadata": {
    "collapsed": true
   },
   "outputs": [],
   "source": [
    "res10['dev'] = findDev(res10)\n",
    "res100['dev'] = findDev(res100)\n",
    "res1000['dev'] = findDev(res1000)\n",
    "res10000['dev'] = findDev(res10000)\n",
    "res100000['dev'] = findDev(res100000)"
   ]
  },
  {
   "cell_type": "code",
   "execution_count": null,
   "metadata": {
    "collapsed": false
   },
   "outputs": [],
   "source": [
    "res10.head()"
   ]
  },
  {
   "cell_type": "code",
   "execution_count": null,
   "metadata": {
    "collapsed": false
   },
   "outputs": [],
   "source": [
    "plt.plot(res10.x, res10.Result, 'b-', label='N=10')\n",
    "plt.plot(res100.x, res100.Result, 'g--', label='N=100')\n",
    "plt.plot(res1000.x, res1000.Result, 'r-.', label='N=1000')\n",
    "\n",
    "plt.plot(res1000.x, res1000.Exact, 'k', label='Exact', zorder=0)\n",
    "\n",
    "sns.despine()\n",
    "\n",
    "plt.legend()\n",
    "plt.xlabel('x')\n",
    "plt.ylabel('Solution value')"
   ]
  },
  {
   "cell_type": "code",
   "execution_count": null,
   "metadata": {
    "collapsed": false,
    "scrolled": true
   },
   "outputs": [],
   "source": [
    "plt.plot(res10.x, res10.dev, 'b-', label='N=10')\n",
    "plt.plot(res100.x, res100.dev, 'g--', label='N=100')\n",
    "plt.plot(res1000.x, res1000.dev, 'r-.', label='N=1000')\n",
    "\n",
    "sns.despine()\n",
    "\n",
    "plt.legend()\n",
    "plt.xlabel('x')\n",
    "plt.ylabel('Relative error')"
   ]
  },
  {
   "cell_type": "code",
   "execution_count": null,
   "metadata": {
    "collapsed": true
   },
   "outputs": [],
   "source": []
  }
 ],
 "metadata": {
  "kernelspec": {
   "display_name": "Python 3",
   "language": "python",
   "name": "python3"
  },
  "language_info": {
   "codemirror_mode": {
    "name": "ipython",
    "version": 3
   },
   "file_extension": ".py",
   "mimetype": "text/x-python",
   "name": "python",
   "nbconvert_exporter": "python",
   "pygments_lexer": "ipython3",
   "version": "3.5.1"
  }
 },
 "nbformat": 4,
 "nbformat_minor": 0
}
