{
 "cells": [
  {
   "cell_type": "code",
   "execution_count": null,
   "metadata": {
    "collapsed": false
   },
   "outputs": [],
   "source": [
    "%matplotlib inline"
   ]
  },
  {
   "cell_type": "code",
   "execution_count": null,
   "metadata": {
    "collapsed": false
   },
   "outputs": [],
   "source": [
    "import numpy as np\n",
    "import matplotlib.pyplot as plt\n",
    "import seaborn as sns\n",
    "import pandas as pd"
   ]
  },
  {
   "cell_type": "code",
   "execution_count": null,
   "metadata": {
    "collapsed": true
   },
   "outputs": [],
   "source": [
    "sns.set_color_codes()\n",
    "sns.set_style('ticks')\n",
    "sns.set_context('paper')"
   ]
  },
  {
   "cell_type": "code",
   "execution_count": null,
   "metadata": {
    "collapsed": true
   },
   "outputs": [],
   "source": [
    "def exact(x):\n",
    "    return 1 - (1 - np.exp(-10)) * x - np.exp(-10 * x)"
   ]
  },
  {
   "cell_type": "code",
   "execution_count": null,
   "metadata": {
    "collapsed": true
   },
   "outputs": [],
   "source": [
    "def findDev(df):\n",
    "    return np.log10(np.abs(df['Result'] - df['Exact']) / df['Exact'])"
   ]
  },
  {
   "cell_type": "code",
   "execution_count": null,
   "metadata": {
    "collapsed": false
   },
   "outputs": [],
   "source": [
    "res10 = pd.read_table('outputs/solver_outputs/res10.txt', delim_whitespace=True)\n",
    "res100 = pd.read_table('outputs/solver_outputs/res100.txt', delim_whitespace=True)\n",
    "res1000 = pd.read_table('outputs/solver_outputs/res1000.txt', delim_whitespace=True)\n",
    "res10000 = pd.read_table('outputs/solver_outputs/res10000.txt', delim_whitespace=True)\n",
    "res100000 = pd.read_table('outputs/solver_outputs/res100000.txt', delim_whitespace=True)"
   ]
  },
  {
   "cell_type": "code",
   "execution_count": null,
   "metadata": {
    "collapsed": true
   },
   "outputs": [],
   "source": [
    "arma10 = pd.read_table('outputs/solver_outputs/arma10.txt', delim_whitespace=True)\n",
    "arma100 = pd.read_table('outputs/solver_outputs/arma100.txt', delim_whitespace=True)\n",
    "arma1000 = pd.read_table('outputs/solver_outputs/arma1000.txt', delim_whitespace=True)"
   ]
  },
  {
   "cell_type": "code",
   "execution_count": null,
   "metadata": {
    "collapsed": true
   },
   "outputs": [],
   "source": [
    "res10['dev'] = findDev(res10)\n",
    "res100['dev'] = findDev(res100)\n",
    "res1000['dev'] = findDev(res1000)\n",
    "res10000['dev'] = findDev(res10000)\n",
    "res100000['dev'] = findDev(res100000)"
   ]
  },
  {
   "cell_type": "code",
   "execution_count": null,
   "metadata": {
    "collapsed": false
   },
   "outputs": [],
   "source": [
    "res10.head()"
   ]
  },
  {
   "cell_type": "code",
   "execution_count": null,
   "metadata": {
    "collapsed": false
   },
   "outputs": [],
   "source": [
    "plt.figure(figsize=(3, 2.3))\n",
    "plt.plot(res10.x, res10.Result, 'b-', label='N=10')\n",
    "plt.plot(res100.x, res100.Result, 'g--', label='N=100')\n",
    "plt.plot(res1000.x, res1000.Result, 'r-.', label='N=1000')\n",
    "\n",
    "plt.plot(res1000.x, res1000.Exact, 'k', label='Exact', zorder=0)\n",
    "\n",
    "sns.despine()\n",
    "\n",
    "plt.legend()\n",
    "plt.xlabel('x')\n",
    "plt.ylabel('Solution value')\n",
    "\n",
    "plt.tight_layout()\n",
    "\n",
    "plt.savefig('report/convergence.pdf')"
   ]
  },
  {
   "cell_type": "code",
   "execution_count": null,
   "metadata": {
    "collapsed": false,
    "scrolled": true
   },
   "outputs": [],
   "source": [
    "plt.figure(figsize=(3, 2.3))\n",
    "plt.plot(res10.x, res10.dev, 'b-', label='N=10')\n",
    "plt.plot(res100.x, res100.dev, 'g--', label='N=100')\n",
    "plt.plot(res1000.x, res1000.dev, 'r-.', label='N=1000')\n",
    "\n",
    "sns.despine()\n",
    "\n",
    "plt.ylim(-2.5, 1.25)\n",
    "\n",
    "plt.legend()\n",
    "plt.xlabel('x')\n",
    "plt.ylabel('Relative error')\n",
    "\n",
    "plt.tight_layout()\n",
    "\n",
    "plt.savefig('report/relerror.pdf')"
   ]
  },
  {
   "cell_type": "code",
   "execution_count": null,
   "metadata": {
    "collapsed": false
   },
   "outputs": [],
   "source": [
    "print(res10.dev.max())\n",
    "print(res100.dev.max())\n",
    "print(res1000.dev.max())\n",
    "print(res10000.dev.max())\n",
    "print(res100000.dev.max())"
   ]
  },
  {
   "cell_type": "markdown",
   "metadata": {
    "collapsed": true
   },
   "source": [
    "# Comparison to Armadillo LU solver"
   ]
  },
  {
   "cell_type": "code",
   "execution_count": null,
   "metadata": {
    "collapsed": false
   },
   "outputs": [],
   "source": [
    "fig, ax = plt.subplots(3, 1, squeeze=True, sharex=True, sharey=True, figsize=(3, 3*2.3))\n",
    "\n",
    "plt.sca(ax[0])\n",
    "\n",
    "plt.plot(res10.x, res10.Result, 'b-', label='Gaussian Elimination')\n",
    "plt.plot(arma10.x, arma10.Result, 'g--', label='Armadillo LU')\n",
    "plt.plot(res1000.x, res1000.Exact, 'k-.', label='Exact', zorder=0)\n",
    "\n",
    "plt.text(0.95, 0.95, r'$n=10$', transform=plt.gca().transAxes, ha='right', va='top')\n",
    "\n",
    "plt.ylim(0, 1.7)\n",
    "\n",
    "sns.despine()\n",
    "\n",
    "lgd = plt.legend(bbox_to_anchor=(1.0, 0.5), frameon=True, bbox_transform=plt.gcf().transFigure, loc=2)\n",
    "plt.ylabel('Solution value')\n",
    "\n",
    "plt.sca(ax[1])\n",
    "\n",
    "plt.plot(res100.x, res100.Result, 'b-', label='Gaussian Elimination')\n",
    "plt.plot(arma100.x, arma100.Result, 'g--', label='Armadillo LU')\n",
    "plt.plot(res1000.x, res1000.Exact, 'k-.', label='Exact', zorder=0)\n",
    "\n",
    "plt.text(0.95, 0.95, r'$n=100$', transform=plt.gca().transAxes, ha='right', va='top')\n",
    "\n",
    "sns.despine()\n",
    "\n",
    "# plt.legend()\n",
    "plt.ylabel('Solution value')\n",
    "\n",
    "plt.sca(ax[2])\n",
    "\n",
    "plt.plot(res1000.x, res1000.Result, 'b-', label='Gaussian Elimination')\n",
    "plt.plot(arma1000.x, arma1000.Result, 'g--', label='Armadillo LU')\n",
    "plt.plot(res1000.x, res1000.Exact, 'k-.', label='Exact', zorder=0)\n",
    "\n",
    "plt.text(0.95, 0.95, r'$n=1000$', transform=plt.gca().transAxes, ha='right', va='top')\n",
    "\n",
    "sns.despine()\n",
    "\n",
    "# plt.legend()\n",
    "plt.xlabel('x')\n",
    "plt.ylabel('Solution value')\n",
    "\n",
    "# plt.tight_layout()\n",
    "\n",
    "plt.savefig('report/conv_vs_arma.pdf', bbox_extra_artists=(lgd,), bbox_inches='tight')"
   ]
  },
  {
   "cell_type": "markdown",
   "metadata": {
    "collapsed": true
   },
   "source": [
    "# Timing"
   ]
  },
  {
   "cell_type": "code",
   "execution_count": null,
   "metadata": {
    "collapsed": true
   },
   "outputs": [],
   "source": [
    "gaus_times = pd.read_csv('outputs/timing/solver_times.csv')\n",
    "arma_times = pd.read_csv('outputs/timing/arma_lu_times.csv')"
   ]
  },
  {
   "cell_type": "code",
   "execution_count": null,
   "metadata": {
    "collapsed": false
   },
   "outputs": [],
   "source": [
    "plt.figure(figsize=(3, 2.3))\n",
    "plt.plot(gaus_times.N, gaus_times.time, 'bo-', label='Gaussian elim.')\n",
    "plt.plot(arma_times.N, arma_times.time, 'gs--', label='Arma. LU decomp.')\n",
    "\n",
    "plt.loglog()\n",
    "plt.xlabel('Dimensionality $n$')\n",
    "plt.ylabel('Best time [s]')\n",
    "\n",
    "sns.despine()\n",
    "\n",
    "plt.legend(loc=4)\n",
    "plt.tight_layout()\n",
    "plt.savefig('report/times.pdf')"
   ]
  },
  {
   "cell_type": "code",
   "execution_count": null,
   "metadata": {
    "collapsed": true
   },
   "outputs": [],
   "source": []
  }
 ],
 "metadata": {
  "kernelspec": {
   "display_name": "Python 3",
   "language": "python",
   "name": "python3"
  },
  "language_info": {
   "codemirror_mode": {
    "name": "ipython",
    "version": 3
   },
   "file_extension": ".py",
   "mimetype": "text/x-python",
   "name": "python",
   "nbconvert_exporter": "python",
   "pygments_lexer": "ipython3",
   "version": "3.5.1"
  }
 },
 "nbformat": 4,
 "nbformat_minor": 0
}
