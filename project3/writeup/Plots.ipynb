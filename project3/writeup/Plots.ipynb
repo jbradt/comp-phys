{
 "cells": [
  {
   "cell_type": "code",
   "execution_count": null,
   "metadata": {
    "collapsed": true
   },
   "outputs": [],
   "source": [
    "%matplotlib inline"
   ]
  },
  {
   "cell_type": "code",
   "execution_count": null,
   "metadata": {
    "collapsed": false
   },
   "outputs": [],
   "source": [
    "import pandas as pd\n",
    "import numpy as np\n",
    "import matplotlib.pyplot as plt\n",
    "import seaborn as sns\n",
    "import sys\n",
    "import os\n",
    "import yaml\n",
    "from mpl_toolkits.mplot3d import Axes3D"
   ]
  },
  {
   "cell_type": "code",
   "execution_count": null,
   "metadata": {
    "collapsed": false
   },
   "outputs": [],
   "source": [
    "sns.set_style('ticks')\n",
    "sns.set_color_codes()\n",
    "sns.set_palette('Set1')\n",
    "sns.set_context('paper')"
   ]
  },
  {
   "cell_type": "code",
   "execution_count": null,
   "metadata": {
    "collapsed": true
   },
   "outputs": [],
   "source": [
    "colwidth=246 / 72"
   ]
  },
  {
   "cell_type": "code",
   "execution_count": null,
   "metadata": {
    "collapsed": false
   },
   "outputs": [],
   "source": [
    "with open('../configs/earth_jupiter.yml') as f:\n",
    "    config = yaml.load(f)"
   ]
  },
  {
   "cell_type": "code",
   "execution_count": null,
   "metadata": {
    "collapsed": false
   },
   "outputs": [],
   "source": [
    "dirName = '../build/release'\n",
    "planets = ['Sun', 'Mercury', 'Venus', 'Earth', 'Mars', 'Jupiter', 'Saturn', 'Uranus', 'Neptune',]\n",
    "\n",
    "posdata = {}\n",
    "for p in planets:\n",
    "    try:\n",
    "        pos = pd.read_csv(os.path.join(dirName, p + '.csv'), header=None)\n",
    "        if pos.shape[1] == 6:\n",
    "            pos.columns = ('x', 'y', 'z', 'vx', 'vy', 'vz')\n",
    "            pos['en'] = pos.vx**2 + pos.vy**2 + pos.vz**2\n",
    "            pos['rsun'] = np.sqrt(pos.x**2 + pos.y**2 + pos.z**2)\n",
    "        elif pos.shape[1] == 4:\n",
    "            pos.columns = ('x', 'y', 'vx', 'vy')\n",
    "            pos['en'] = pos.vx**2 + pos.vy**2\n",
    "            pos['rsun'] = np.sqrt(pos.x**2 + pos.y**2)\n",
    "            \n",
    "        pos['time'] = pos.index * float(config['timestep'])\n",
    "        posdata[p] = pos\n",
    "    except OSError:\n",
    "        continue"
   ]
  },
  {
   "cell_type": "code",
   "execution_count": null,
   "metadata": {
    "collapsed": false
   },
   "outputs": [],
   "source": [
    "with sns.color_palette('husl', 9):\n",
    "    plt.figure(figsize=(colwidth, 0.75*colwidth))\n",
    "    \n",
    "    for p in planets:\n",
    "        try:\n",
    "            v = posdata[p]\n",
    "        except KeyError:\n",
    "            continue\n",
    "        plt.polar(np.arctan2(v.x, v.y), (np.hypot(v.x, v.y))**(0.3333333333), label=p, linewidth=1)\n",
    "    plt.gca().set_aspect(1)\n",
    "    plt.legend(bbox_to_anchor=(1.1, 0.5), loc='center left')\n",
    "#     plt.savefig('planets_euler.png', bbox_inches='tight', dpi=300)"
   ]
  },
  {
   "cell_type": "code",
   "execution_count": null,
   "metadata": {
    "collapsed": false
   },
   "outputs": [],
   "source": [
    "with sns.color_palette('husl', 9):\n",
    "#     plt.figure(figsize=(colwidth, 0.75*colwidth))\n",
    "    for p in planets:\n",
    "        try:\n",
    "            v = posdata[p]\n",
    "        except KeyError:\n",
    "            continue\n",
    "        plt.plot(v.x, np.cos(np.deg2rad(8)) * v.z + np.sin(np.deg2rad(8)) * v.y, label=p, linewidth=1)\n",
    "    plt.gca().set_aspect(1)\n",
    "    plt.legend(bbox_to_anchor=(1.1, 0.5), loc='center left')"
   ]
  },
  {
   "cell_type": "code",
   "execution_count": null,
   "metadata": {
    "collapsed": true
   },
   "outputs": [],
   "source": [
    "%matplotlib notebook\n",
    "sns.set_context('notebook')"
   ]
  },
  {
   "cell_type": "code",
   "execution_count": null,
   "metadata": {
    "collapsed": false
   },
   "outputs": [],
   "source": [
    "with sns.color_palette('husl', 9):\n",
    "    ax = plt.subplot(111, projection='3d')\n",
    "    for p in planets:\n",
    "        try:\n",
    "            v = posdata[p]\n",
    "        except KeyError:\n",
    "            continue\n",
    "        ax.plot(v.x, v.y, v.z, label=p, linewidth=1)\n",
    "        ax.set_xlim(-50, 50)\n",
    "        ax.set_ylim(-50, 50)\n",
    "        ax.set_zlim(-50, 50)\n",
    "        ax.set_aspect(1)"
   ]
  },
  {
   "cell_type": "code",
   "execution_count": null,
   "metadata": {
    "collapsed": false
   },
   "outputs": [],
   "source": [
    "plt.figure(figsize=(colwidth*0.8, colwidth*0.8))\n",
    "epos = posdata['Earth']\n",
    "jpos = posdata['Jupiter']\n",
    "plt.plot(epos.x, epos.y, label='Earth')\n",
    "# plt.plot(jpos.x, jpos.y, label='Jupiter')\n",
    "plt.plot(0, 0, 'yo', label='Sun')\n",
    "plt.xlim(-2, 2)\n",
    "plt.ylim(-2, 2)\n",
    "plt.gca().set_aspect(1)\n",
    "plt.xticks(range(-2, 3))\n",
    "plt.yticks(range(-2, 3))\n",
    "sns.despine()\n",
    "plt.grid()\n",
    "plt.legend(loc='lower center', ncol=2)\n",
    "plt.xlabel('x [au]')\n",
    "plt.ylabel('y [au]')\n",
    "\n",
    "plt.tight_layout()\n",
    "# plt.savefig('jupiter_1000x.pdf')"
   ]
  },
  {
   "cell_type": "code",
   "execution_count": null,
   "metadata": {
    "collapsed": false
   },
   "outputs": [],
   "source": []
  },
  {
   "cell_type": "code",
   "execution_count": null,
   "metadata": {
    "collapsed": false
   },
   "outputs": [],
   "source": [
    "plt.figure(figsize=(colwidth, colwidth * 0.75))\n",
    "epos = posdata['Earth']\n",
    "plt.plot(epos.time, epos.x, label='x')\n",
    "plt.plot(epos.time, epos.y, '--', label='y')\n",
    "sns.despine()\n",
    "plt.xlabel('Time [d]')\n",
    "plt.ylabel('Position [A.U.]')\n",
    "plt.xticks(365*np.arange(0, 5))\n",
    "plt.minorticks_on()\n",
    "plt.grid()\n",
    "plt.xlim(365*100, 365*105)\n",
    "plt.legend(loc='lower center', ncol=2)\n",
    "plt.tight_layout()\n",
    "# plt.savefig('earthpos_rk4.pdf')"
   ]
  },
  {
   "cell_type": "code",
   "execution_count": null,
   "metadata": {
    "collapsed": false
   },
   "outputs": [],
   "source": [
    "plt.plot(np.hypot(posdata['Earth'].x, posdata['Earth'].y))"
   ]
  },
  {
   "cell_type": "code",
   "execution_count": null,
   "metadata": {
    "collapsed": false
   },
   "outputs": [],
   "source": [
    "plt.plot(np.hypot(posdata['Earth'].vx, posdata['Earth'].vy))"
   ]
  },
  {
   "cell_type": "code",
   "execution_count": null,
   "metadata": {
    "collapsed": false
   },
   "outputs": [],
   "source": [
    "posdata['Earth'].en.mean()"
   ]
  },
  {
   "cell_type": "code",
   "execution_count": null,
   "metadata": {
    "collapsed": false
   },
   "outputs": [],
   "source": [
    "posdata['Earth'].en.max() - posdata['Earth'].en.min()"
   ]
  },
  {
   "cell_type": "code",
   "execution_count": null,
   "metadata": {
    "collapsed": false
   },
   "outputs": [],
   "source": [
    "(np.abs(posdata['Earth'].en - posdata['Earth'].en.iloc[0]) / posdata['Earth'].en.iloc[0]).max() * 100"
   ]
  },
  {
   "cell_type": "code",
   "execution_count": null,
   "metadata": {
    "collapsed": false
   },
   "outputs": [],
   "source": [
    "(np.abs(posdata['Earth'].rsun - posdata['Earth'].rsun.iloc[0]) / posdata['Earth'].rsun.iloc[0]).max() * 100"
   ]
  },
  {
   "cell_type": "code",
   "execution_count": null,
   "metadata": {
    "collapsed": false
   },
   "outputs": [],
   "source": [
    "plt.figure(figsize=(colwidth, colwidth * 0.75))\n",
    "\n",
    "plt.plot(posdata['Earth'].time / 365, \n",
    "         (posdata['Earth'].en - posdata['Earth'].en.iloc[0]) / posdata['Earth'].en.iloc[0] * 100,\n",
    "         label='Kinetic energy')\n",
    "plt.plot(posdata['Earth'].time / 365, \n",
    "         (posdata['Earth'].rsun - posdata['Earth'].rsun.iloc[0]) / posdata['Earth'].rsun.iloc[0] * 100, '--',\n",
    "         label='Earth-Sun dist.')\n",
    "sns.despine()\n",
    "plt.xlabel('Time [y]')\n",
    "plt.ylabel('Deviation from initial value [%]')\n",
    "plt.legend(loc=8, ncol=2)\n",
    "plt.ylim(-3.5, 3.5)\n",
    "plt.tight_layout()\n",
    "plt.grid()\n",
    "# plt.savefig('jupiter_devs_1x.pdf')"
   ]
  },
  {
   "cell_type": "code",
   "execution_count": null,
   "metadata": {
    "collapsed": false
   },
   "outputs": [],
   "source": [
    "epos = posdata['Earth']\n",
    "aphs = []\n",
    "peris = []\n",
    "for yr in range(0, 100):\n",
    "    dmin, dmax = yr*365, (yr + 1)*365\n",
    "    aphs.append(epos.iloc[dmin:dmax].rsun.max())\n",
    "    peris.append(epos.iloc[dmin:dmax].rsun.min())\n",
    "    \n",
    "plt.plot(aphs)\n",
    "plt.plot(peris)"
   ]
  },
  {
   "cell_type": "code",
   "execution_count": null,
   "metadata": {
    "collapsed": false
   },
   "outputs": [],
   "source": [
    "plt.figure(figsize=(colwidth, colwidth * 0.75))\n",
    "plt.plot(posdata['Earth'].time / 365, posdata['Earth'].rsun)\n",
    "plt.gca().get_yaxis().get_major_formatter().set_useOffset(False)\n",
    "sns.despine()\n",
    "plt.xlabel('Time [y]')\n",
    "plt.ylabel('Earth-Sun distance [au]')\n",
    "plt.grid()"
   ]
  },
  {
   "cell_type": "code",
   "execution_count": null,
   "metadata": {
    "collapsed": true
   },
   "outputs": [],
   "source": []
  },
  {
   "cell_type": "code",
   "execution_count": null,
   "metadata": {
    "collapsed": false
   },
   "outputs": [],
   "source": [
    "plt.plot(posdata['Earth'].rsun / posdata['Earth'].rsun.iloc[0] - 1)\n",
    "plt.gca().get_yaxis().get_major_formatter().set_useOffset(False)"
   ]
  },
  {
   "cell_type": "code",
   "execution_count": null,
   "metadata": {
    "collapsed": true
   },
   "outputs": [],
   "source": []
  }
 ],
 "metadata": {
  "kernelspec": {
   "display_name": "Python 3",
   "language": "python",
   "name": "python3"
  },
  "language_info": {
   "codemirror_mode": {
    "name": "ipython",
    "version": 3
   },
   "file_extension": ".py",
   "mimetype": "text/x-python",
   "name": "python",
   "nbconvert_exporter": "python",
   "pygments_lexer": "ipython3",
   "version": "3.5.1"
  }
 },
 "nbformat": 4,
 "nbformat_minor": 0
}
