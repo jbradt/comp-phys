{
 "cells": [
  {
   "cell_type": "code",
   "execution_count": null,
   "metadata": {
    "collapsed": true
   },
   "outputs": [],
   "source": [
    "%matplotlib inline"
   ]
  },
  {
   "cell_type": "code",
   "execution_count": null,
   "metadata": {
    "collapsed": true
   },
   "outputs": [],
   "source": [
    "import matplotlib.pyplot as plt\n",
    "import numpy as np\n",
    "import seaborn as sns\n",
    "import pandas as pd"
   ]
  },
  {
   "cell_type": "markdown",
   "metadata": {},
   "source": [
    "Formula 1:\n",
    "    $$\n",
    "    f'(x) = \\frac{f(x+h) - f(x)}{h} + O(h)\n",
    "    $$\n",
    "    \n",
    "Formula 2:\n",
    "    $$\n",
    "    f'(x) = \\frac{f(x+h) - f(x-h)}{2h} + O(h^2)\n",
    "    $$"
   ]
  },
  {
   "cell_type": "code",
   "execution_count": null,
   "metadata": {
    "collapsed": true
   },
   "outputs": [],
   "source": [
    "float_res = pd.read_csv(\"float_results.csv\", header=None, names=('step', 'deriv1', 'deriv2'))\n",
    "double_res = pd.read_csv(\"double_results.csv\", header=None, names=('step', 'deriv1', 'deriv2'))"
   ]
  },
  {
   "cell_type": "code",
   "execution_count": null,
   "metadata": {
    "collapsed": true
   },
   "outputs": [],
   "source": [
    "float_res['err1'] = np.abs(float_res.deriv1 - 1/3) / (1/3)\n",
    "float_res['err2'] = np.abs(float_res.deriv2 - 1/3) / (1/3)\n",
    "double_res['err1'] = np.abs(double_res.deriv1 - 1/3) / (1/3)\n",
    "double_res['err2'] = np.abs(double_res.deriv2 - 1/3) / (1/3)"
   ]
  },
  {
   "cell_type": "code",
   "execution_count": null,
   "metadata": {
    "collapsed": false
   },
   "outputs": [],
   "source": [
    "plt.plot(float_res.step, float_res.err1, 'o', label='Formula 1 (float)', markersize=5)\n",
    "plt.plot(float_res.step, float_res.err2, '+', label='Formula 2 (float)', markeredgewidth=1)\n",
    "plt.plot(double_res.step, double_res.err1, '^', label='Formula 1 (double)', markersize=5)\n",
    "plt.plot(double_res.step, double_res.err2, 'x', label='Formula 2 (double)', markeredgewidth=1)\n",
    "plt.loglog()\n",
    "plt.loglog()\n",
    "plt.xlabel('Step size h')\n",
    "plt.ylabel('Relative error')\n",
    "\n",
    "xs = np.logspace(-20, 0)\n",
    "plt.plot(xs, xs, 'k', label='$y=x$')\n",
    "plt.plot(xs, xs**2, 'k--', label='$y=x^2$')\n",
    "plt.ylim(1e-9, 5e0)\n",
    "\n",
    "plt.legend(loc=3)"
   ]
  },
  {
   "cell_type": "code",
   "execution_count": null,
   "metadata": {
    "collapsed": true
   },
   "outputs": [],
   "source": []
  }
 ],
 "metadata": {
  "kernelspec": {
   "display_name": "Python 3",
   "language": "python",
   "name": "python3"
  },
  "language_info": {
   "codemirror_mode": {
    "name": "ipython",
    "version": 3
   },
   "file_extension": ".py",
   "mimetype": "text/x-python",
   "name": "python",
   "nbconvert_exporter": "python",
   "pygments_lexer": "ipython3",
   "version": "3.4.3"
  }
 },
 "nbformat": 4,
 "nbformat_minor": 0
}
