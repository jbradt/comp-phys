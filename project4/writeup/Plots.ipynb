{
 "cells": [
  {
   "cell_type": "code",
   "execution_count": null,
   "metadata": {
    "collapsed": true
   },
   "outputs": [],
   "source": [
    "%matplotlib inline"
   ]
  },
  {
   "cell_type": "code",
   "execution_count": null,
   "metadata": {
    "collapsed": false
   },
   "outputs": [],
   "source": [
    "import numpy as np\n",
    "import pandas as pd\n",
    "import matplotlib.pyplot as plt\n",
    "import seaborn as sns\n",
    "import h5py\n",
    "from mpl_toolkits.mplot3d import Axes3D\n",
    "import subprocess"
   ]
  },
  {
   "cell_type": "code",
   "execution_count": null,
   "metadata": {
    "collapsed": true
   },
   "outputs": [],
   "source": [
    "sns.set_color_codes()\n",
    "sns.set_style('ticks')\n",
    "sns.set_context('paper')"
   ]
  },
  {
   "cell_type": "code",
   "execution_count": null,
   "metadata": {
    "collapsed": true
   },
   "outputs": [],
   "source": [
    "enconv = 1.789565e+47  # J per msol.ly^2.a^-2\n",
    "colwidth = 246 / 72."
   ]
  },
  {
   "cell_type": "code",
   "execution_count": null,
   "metadata": {
    "collapsed": true
   },
   "outputs": [],
   "source": [
    "npts = 500\n",
    "m_mean = 10\n",
    "m_std = 1\n",
    "rad0 = 20\n",
    "dt = 100000\n",
    "num_iters = 2000\n",
    "proc = [str(x) for x in ['./cluster', npts, m_mean, m_std, rad0, dt, num_iters]]"
   ]
  },
  {
   "cell_type": "code",
   "execution_count": null,
   "metadata": {
    "collapsed": false
   },
   "outputs": [],
   "source": [
    "# subprocess.run(proc, cwd='../build/release', stdout=subprocess.PIPE)"
   ]
  },
  {
   "cell_type": "code",
   "execution_count": null,
   "metadata": {
    "collapsed": true
   },
   "outputs": [],
   "source": [
    "with h5py.File('../build/release/result.h5') as f:\n",
    "    data = f['dataset'][:]\n",
    "    \n",
    "radii = np.sqrt(np.sum(data[:, :3]**2, axis=1))\n",
    "kine = data[:, 7]\n",
    "pot = data[:, 8]\n",
    "\n",
    "times = np.arange(num_iters) * dt"
   ]
  },
  {
   "cell_type": "code",
   "execution_count": null,
   "metadata": {
    "collapsed": true
   },
   "outputs": [],
   "source": [
    "bound = (kine + pot).max(axis=0) < 0"
   ]
  },
  {
   "cell_type": "code",
   "execution_count": null,
   "metadata": {
    "collapsed": false
   },
   "outputs": [],
   "source": [
    "plt.figure(figsize=(colwidth, 0.7*colwidth))\n",
    "\n",
    "ublines = plt.plot(times / 1e6, radii[:, ~bound], 'r', linewidth=1, alpha=0.4)\n",
    "bdlines = plt.plot(times / 1e6, radii[:, bound], 'b', linewidth=1, alpha=0.4)\n",
    "plt.ylim(0, 50)\n",
    "plt.xlim(0, 50)\n",
    "plt.xlabel('Time [Ma]')\n",
    "plt.ylabel('Radial position [ly]')\n",
    "sns.despine()\n",
    "plt.legend((bdlines[0], ublines[0]), ('Bound', 'Unbound'), loc=2, frameon=True)\n",
    "plt.tight_layout()\n",
    "plt.savefig('rads.pdf')"
   ]
  },
  {
   "cell_type": "code",
   "execution_count": null,
   "metadata": {
    "collapsed": false
   },
   "outputs": [],
   "source": [
    "kine.shape"
   ]
  },
  {
   "cell_type": "code",
   "execution_count": null,
   "metadata": {
    "collapsed": false
   },
   "outputs": [],
   "source": [
    "plt.plot(np.diff(kine, axis=0), linewidth=1);"
   ]
  },
  {
   "cell_type": "code",
   "execution_count": null,
   "metadata": {
    "collapsed": false
   },
   "outputs": [],
   "source": [
    "plt.plot(kine[:, bound], 'b', linewidth=1); "
   ]
  },
  {
   "cell_type": "code",
   "execution_count": null,
   "metadata": {
    "collapsed": false
   },
   "outputs": [],
   "source": [
    "plt.plot(pot[:, bound], 'b', linewidth=1);"
   ]
  },
  {
   "cell_type": "code",
   "execution_count": null,
   "metadata": {
    "collapsed": false
   },
   "outputs": [],
   "source": [
    "fig = plt.figure(figsize=(colwidth, 0.7*colwidth))\n",
    "totkine = np.sum(kine[:, bound], -1) * enconv\n",
    "totpot = np.sum(pot[:, bound], -1) * enconv\n",
    "\n",
    "plt.plot(times / 1e6, totkine, 'b--', label='Kin. En.')\n",
    "plt.plot(times / 1e6, totpot, 'r-.', label='Pot. En.')\n",
    "plt.plot(times / 1e6, totkine + totpot, 'k', label='Total En.')\n",
    "# nbd = bound.nonzero()[0].shape[0]\n",
    "\n",
    "# plt.plot(times / 1e6, 2* totkine / nbd  + totpot / nbd, 'b')\n",
    "# plt.grid()\n",
    "plt.hlines(0, *plt.xlim(), linewidth=1, edgecolor='Grey')\n",
    "sns.despine()\n",
    "\n",
    "plt.legend(loc=4)\n",
    "plt.xlabel('Time [Ma]')\n",
    "plt.ylabel('Energy [J]')\n",
    "\n",
    "plt.tight_layout()\n",
    "plt.savefig('boundEnergy.pdf')"
   ]
  },
  {
   "cell_type": "code",
   "execution_count": null,
   "metadata": {
    "collapsed": false
   },
   "outputs": [],
   "source": [
    "totkine = np.sum(kine[:, ~bound], -1) * enconv\n",
    "totpot = np.sum(pot[:, ~bound], -1) * enconv\n",
    "\n",
    "plt.plot(times / 1e6, totkine, 'b--', label='Kin. En.')\n",
    "plt.plot(times / 1e6, totpot, 'r-.', label='Pot. En.')\n",
    "plt.plot(times / 1e6, totkine + totpot, 'k', label='Total En.')\n",
    "plt.legend(loc=4)\n",
    "plt.grid()\n",
    "sns.despine()\n",
    "plt.xlabel('Time [Ma]')\n",
    "plt.ylabel('Energy [J]')"
   ]
  },
  {
   "cell_type": "code",
   "execution_count": null,
   "metadata": {
    "collapsed": false
   },
   "outputs": [],
   "source": [
    "fig = plt.figure(figsize=(colwidth, 0.7*colwidth))\n",
    "totkine = np.sum(kine[:, bound], -1) * enconv\n",
    "totpot = np.sum(pot[:, bound], -1) * enconv\n",
    "\n",
    "nbd = bound.nonzero()[0].shape[0]\n",
    "\n",
    "plt.plot(times / 1e6, 2* totkine / nbd  + totpot / nbd, 'b')\n",
    "plt.grid()\n",
    "sns.despine()\n",
    "plt.xlabel('Time [Ma]')\n",
    "plt.ylabel('Virial equation [J]')\n",
    "\n",
    "plt.tight_layout()\n",
    "plt.savefig('virial.pdf')"
   ]
  },
  {
   "cell_type": "code",
   "execution_count": null,
   "metadata": {
    "collapsed": true
   },
   "outputs": [],
   "source": [
    "i = -1"
   ]
  },
  {
   "cell_type": "code",
   "execution_count": null,
   "metadata": {
    "collapsed": false
   },
   "outputs": [],
   "source": [
    "i +=1\n",
    "print(i)\n",
    "fig = plt.figure()\n",
    "ax = fig.add_subplot(111, projection='3d')\n",
    "ax.scatter(data[i, 0, :], data[i, 1, :], data[i, 2, :])\n",
    "ax.set_xlim(-30, 30)\n",
    "ax.set_ylim(-30, 30)\n",
    "ax.set_zlim(-30, 30)"
   ]
  },
  {
   "cell_type": "code",
   "execution_count": null,
   "metadata": {
    "collapsed": false
   },
   "outputs": [],
   "source": [
    "data.shape"
   ]
  },
  {
   "cell_type": "code",
   "execution_count": null,
   "metadata": {
    "collapsed": false
   },
   "outputs": [],
   "source": [
    "radii.shape"
   ]
  },
  {
   "cell_type": "code",
   "execution_count": null,
   "metadata": {
    "collapsed": false
   },
   "outputs": [],
   "source": [
    "data[:, 6:7, bound].shape"
   ]
  },
  {
   "cell_type": "code",
   "execution_count": null,
   "metadata": {
    "collapsed": false
   },
   "outputs": [],
   "source": [
    "cmLoc = np.sum(data[:, :3, bound] * data[:, 6:7, bound], axis=-1) / data[0, 6].sum()\n",
    "cmPos = data[:, :3] - cmLoc[:, :, np.newaxis]\n",
    "cmRad = np.sqrt(np.sum(cmPos**2, axis=1))"
   ]
  },
  {
   "cell_type": "code",
   "execution_count": null,
   "metadata": {
    "collapsed": false
   },
   "outputs": [],
   "source": [
    "xbins, xedges, fig = plt.hist(cmRad[-1, bound], bins=np.linspace(0, 500, 140));\n",
    "binctrs = xedges[:-1] + (xedges[1] - xedges[0]) / 2\n",
    "vols = 4/3 * np.pi * (xedges[1:]**3 - xedges[:-1]**3)\n",
    "dens = xbins / vols\n",
    "plt.plot(binctrs, xbins, 'r.')"
   ]
  },
  {
   "cell_type": "code",
   "execution_count": null,
   "metadata": {
    "collapsed": false
   },
   "outputs": [],
   "source": [
    "plt.step(binctrs, vols)"
   ]
  },
  {
   "cell_type": "code",
   "execution_count": null,
   "metadata": {
    "collapsed": true
   },
   "outputs": [],
   "source": [
    "from scipy.optimize import curve_fit"
   ]
  },
  {
   "cell_type": "code",
   "execution_count": null,
   "metadata": {
    "collapsed": true
   },
   "outputs": [],
   "source": [
    "def fitfunc(r, r0, n0):\n",
    "    return n0 / (1 + (r / r0)**4)"
   ]
  },
  {
   "cell_type": "code",
   "execution_count": null,
   "metadata": {
    "collapsed": false
   },
   "outputs": [],
   "source": [
    "fparams, fcov = curve_fit(fitfunc, binctrs, dens)\n",
    "print(fparams)"
   ]
  },
  {
   "cell_type": "code",
   "execution_count": null,
   "metadata": {
    "collapsed": false
   },
   "outputs": [],
   "source": [
    "fig = plt.figure(figsize=(colwidth, 0.7*colwidth))\n",
    "\n",
    "# plt.plot(binctrs, dens, 'o')\n",
    "# plt.fill_between(xedges[:-1], dens, step='post')\n",
    "plt.bar(xedges[:-1], dens, width=(xedges[1] - xedges[0]), label='Data')\n",
    "xs = np.linspace(xedges.min(), xedges.max(), 500)\n",
    "plt.plot(xs, fitfunc(xs, *fparams), 'k', label='Fit')\n",
    "plt.xlim(0, 60)\n",
    "sns.despine()\n",
    "plt.legend()\n",
    "plt.xlabel('Radial coordinate [ly]')\n",
    "plt.ylabel('Particle density [ly^-3]')\n",
    "\n",
    "plt.tight_layout()\n",
    "plt.savefig('dens.pdf')"
   ]
  },
  {
   "cell_type": "code",
   "execution_count": null,
   "metadata": {
    "collapsed": false
   },
   "outputs": [],
   "source": [
    "fig = plt.figure(figsize=(colwidth, 2.2*colwidth))\n",
    "ax = fig.add_subplot(311, projection='3d')\n",
    "ax.scatter(cmPos[0, 0, :], cmPos[0, 1, :], cmPos[0, 2, :])\n",
    "ax.set_xlim(-30, 30)\n",
    "ax.set_ylim(-30, 30)\n",
    "ax.set_zlim(-30, 30)\n",
    "\n",
    "ax = fig.add_subplot(312, projection='3d')\n",
    "ax.scatter(cmPos[50, 0, :], cmPos[50, 1, :], cmPos[50, 2, :])\n",
    "ax.set_xlim(-30, 30)\n",
    "ax.set_ylim(-30, 30)\n",
    "ax.set_zlim(-30, 30)\n",
    "\n",
    "ax = fig.add_subplot(313, projection='3d')\n",
    "ax.scatter(cmPos[-1, 0, :], cmPos[-1, 1, :], cmPos[-1, 2, :])\n",
    "ax.set_xlim(-30, 30)\n",
    "ax.set_ylim(-30, 30)\n",
    "ax.set_zlim(-30, 30)\n",
    "\n",
    "plt.tight_layout()\n",
    "\n",
    "plt.savefig('3d.pdf')"
   ]
  },
  {
   "cell_type": "code",
   "execution_count": null,
   "metadata": {
    "collapsed": false
   },
   "outputs": [],
   "source": [
    "(len(cmPos) - 1) * dt"
   ]
  },
  {
   "cell_type": "code",
   "execution_count": null,
   "metadata": {
    "collapsed": true
   },
   "outputs": [],
   "source": [
    "\n",
    "\n",
    "\n",
    "\n",
    "\n",
    "\n",
    "\n",
    "\n",
    "\n",
    "\n",
    "\n",
    "\n",
    "\n",
    "\n"
   ]
  },
  {
   "cell_type": "code",
   "execution_count": null,
   "metadata": {
    "collapsed": true
   },
   "outputs": [],
   "source": []
  },
  {
   "cell_type": "markdown",
   "metadata": {},
   "source": [
    "# Animations"
   ]
  },
  {
   "cell_type": "code",
   "execution_count": null,
   "metadata": {
    "collapsed": false
   },
   "outputs": [],
   "source": [
    "for i in range(0, len(data), 10):\n",
    "    plt.plot(data[i, 0, :], data[i, 1, :], '.')\n",
    "    plt.xlim(-30, 30)\n",
    "    plt.ylim(-30, 30)\n",
    "    plt.gca().set_aspect(1)\n",
    "    plt.savefig('images/anim2d_{:04d}.png'.format(i), bbox_inches='tight')\n",
    "    plt.close()"
   ]
  },
  {
   "cell_type": "code",
   "execution_count": null,
   "metadata": {
    "collapsed": false
   },
   "outputs": [],
   "source": [
    "subprocess.call('/usr/local/bin/convert -delay 10 -loop 0 images/anim2d_*.png anim2d.gif', shell=True)"
   ]
  },
  {
   "cell_type": "code",
   "execution_count": null,
   "metadata": {
    "collapsed": true
   },
   "outputs": [],
   "source": [
    "for i in range(0, data.shape[0], 10):\n",
    "    fig = plt.figure()\n",
    "    ax = fig.add_subplot(111, projection='3d')\n",
    "    ax.scatter(data[i, 0, :], data[i, 1, :], data[i, 2, :])\n",
    "    ax.set_xlim(-30, 30)\n",
    "    ax.set_ylim(-30, 30)\n",
    "    ax.set_zlim(-30, 30)\n",
    "    plt.savefig('images/anim{:04d}.png'.format(i), bbox_inches='tight')\n",
    "    plt.close()"
   ]
  },
  {
   "cell_type": "code",
   "execution_count": null,
   "metadata": {
    "collapsed": false
   },
   "outputs": [],
   "source": [
    "subprocess.call('/usr/local/bin/convert -delay 10 -loop 0 images/anim????.png anim.gif', shell=True)"
   ]
  }
 ],
 "metadata": {
  "kernelspec": {
   "display_name": "Python 3",
   "language": "python",
   "name": "python3"
  },
  "language_info": {
   "codemirror_mode": {
    "name": "ipython",
    "version": 3
   },
   "file_extension": ".py",
   "mimetype": "text/x-python",
   "name": "python",
   "nbconvert_exporter": "python",
   "pygments_lexer": "ipython3",
   "version": "3.5.1"
  }
 },
 "nbformat": 4,
 "nbformat_minor": 0
}
