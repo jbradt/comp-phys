{
 "cells": [
  {
   "cell_type": "code",
   "execution_count": null,
   "metadata": {
    "collapsed": true
   },
   "outputs": [],
   "source": [
    "%matplotlib inline"
   ]
  },
  {
   "cell_type": "code",
   "execution_count": null,
   "metadata": {
    "collapsed": false
   },
   "outputs": [],
   "source": [
    "import matplotlib.pyplot as plt\n",
    "from matplotlib.colors import LogNorm\n",
    "import pandas as pd\n",
    "import numpy as np\n",
    "import seaborn as sns\n",
    "import glob\n",
    "import re"
   ]
  },
  {
   "cell_type": "code",
   "execution_count": null,
   "metadata": {
    "collapsed": true
   },
   "outputs": [],
   "source": [
    "import sys\n",
    "sys.path.append('../..')"
   ]
  },
  {
   "cell_type": "code",
   "execution_count": null,
   "metadata": {
    "collapsed": true
   },
   "outputs": [],
   "source": [
    "import cmaps"
   ]
  },
  {
   "cell_type": "code",
   "execution_count": null,
   "metadata": {
    "collapsed": true
   },
   "outputs": [],
   "source": [
    "sns.set_style('white')\n",
    "sns.set_color_codes()\n",
    "sns.set_context('paper')"
   ]
  },
  {
   "cell_type": "code",
   "execution_count": null,
   "metadata": {
    "collapsed": true
   },
   "outputs": [],
   "source": [
    "colwidth=246 / 72"
   ]
  },
  {
   "cell_type": "code",
   "execution_count": null,
   "metadata": {
    "collapsed": false
   },
   "outputs": [],
   "source": [
    "eigvals2e = {}\n",
    "for f in glob.glob('../outputs/eigval_2elec_*.csv'):\n",
    "    m = re.search(r'eigval_2elec_om(\\d*\\.?\\d+)\\.csv', f)\n",
    "    if m:\n",
    "        name = float(m.group(1))\n",
    "    eigvals2e[name] = pd.read_csv(f, names=(name,), header=0).values.ravel()\n",
    "\n",
    "eigvecs2e = {}\n",
    "for f in glob.glob('../outputs/eigvec_2elec_*.csv'):\n",
    "    m = re.search(r'eigvec_2elec_om(\\d*\\.?\\d+)\\.csv', f)\n",
    "    if m:\n",
    "        name = float(m.group(1))\n",
    "        eigvecs2e[name] = pd.read_csv(f, header=None).values\n",
    "    else:\n",
    "        raise ValueError('RE didn\\'t work')\n",
    "        \n",
    "eigvecs1e = pd.read_csv('../outputs/eigvec_lowest3.csv', header=None).values\n",
    "eigvals1e = pd.read_csv('../outputs/eigval_lowest3.csv', header=0).values.ravel()"
   ]
  },
  {
   "cell_type": "code",
   "execution_count": null,
   "metadata": {
    "collapsed": false
   },
   "outputs": [],
   "source": [
    "for i, v in eigvals2e.items():\n",
    "    idx = v.argsort()\n",
    "    eigvecs2e[i] = eigvecs2e[i][:, idx]\n",
    "\n",
    "eigvecs1e = eigvecs1e[:, eigvals1e.argsort()]"
   ]
  },
  {
   "cell_type": "code",
   "execution_count": null,
   "metadata": {
    "collapsed": false
   },
   "outputs": [],
   "source": [
    "armavec = pd.read_csv('../outputs/arma_eigvec_lowest3.csv', header=None).values\n",
    "armaval = pd.read_csv('../outputs/arma_eigval_lowest3.csv', header=None).values"
   ]
  },
  {
   "cell_type": "code",
   "execution_count": null,
   "metadata": {
    "collapsed": false
   },
   "outputs": [],
   "source": [
    "plt.imshow((eigvecs1e[:, :20]**2 - armavec[:, :20]**2).T, interpolation='nearest', cmap='RdBu')\n",
    "plt.colorbar()\n",
    "plt.gca().set_aspect('auto')"
   ]
  },
  {
   "cell_type": "code",
   "execution_count": null,
   "metadata": {
    "collapsed": false
   },
   "outputs": [],
   "source": [
    "np.sort(eigvals1e)[:50].ravel() - armaval[:50].ravel()"
   ]
  },
  {
   "cell_type": "code",
   "execution_count": null,
   "metadata": {
    "collapsed": false
   },
   "outputs": [],
   "source": [
    "plt.figure(figsize=(colwidth, colwidth/1.6))\n",
    "plt.imshow((eigvecs1e[:, :20]**2).T, interpolation='nearest', origin='lower', cmap=cmaps.viridis,\n",
    "           extent=(0, 10, 0, 20))\n",
    "plt.colorbar().set_label(r'$|u|^2(\\rho)$')\n",
    "plt.gca().set_aspect('auto')\n",
    "plt.xlabel(r'$\\rho$')\n",
    "plt.ylabel('Eigenvector number')\n",
    "plt.savefig('eigenvecs.pdf', bbox_inches='tight')"
   ]
  },
  {
   "cell_type": "code",
   "execution_count": null,
   "metadata": {
    "collapsed": false
   },
   "outputs": [],
   "source": [
    "omega = 0.5\n",
    "\n",
    "plt.imshow((eigvecs2e[omega][:, :10]**2).T, origin='lower', interpolation='nearest')\n",
    "plt.gca().set_aspect('auto')"
   ]
  },
  {
   "cell_type": "code",
   "execution_count": null,
   "metadata": {
    "collapsed": false
   },
   "outputs": [],
   "source": [
    "plt.imshow((eigvecs1e[:, :10]**2).T, origin='lower', interpolation='nearest', extent=(0, 10, 0, 10),\n",
    "           cmap='Greys')\n",
    "plt.gca().set_aspect('auto')"
   ]
  },
  {
   "cell_type": "code",
   "execution_count": null,
   "metadata": {
    "collapsed": false
   },
   "outputs": [],
   "source": [
    "with sns.axes_style('white'):   \n",
    "    pal = sns.color_palette('Set2')\n",
    "    fig, ax = plt.subplots(len(eigvecs2e), 3, sharey='row', sharex=True, figsize=(6, 4.5))\n",
    "    for i, omega in enumerate(sorted(eigvecs2e.keys())):\n",
    "        for n in (0, 1, 2):\n",
    "            plt.sca(ax[i][n])\n",
    "            m = eigvecs2e[omega]\n",
    "            xs1 = np.linspace(0, 10, eigvecs1e.shape[0])\n",
    "            xs2 = np.linspace(0, 10, len(m))\n",
    "            plt.plot(xs1, eigvecs1e[:, n]**2, 'k', label='One-electron case')\n",
    "            plt.fill_between(xs2, m[:, n]**2, label=r'$\\omega_r$ = {}'.format(omega), color=pal[i])\n",
    "    #             plt.legend()\n",
    "            sns.despine(left=True)\n",
    "            plt.grid(axis='y')\n",
    "            if n == 0:\n",
    "                plt.ylabel(r'$u^2(\\rho)$')\n",
    "            if omega == max(eigvecs2e.keys()):\n",
    "                plt.xlabel(r'$\\rho$')\n",
    "            if omega == min(eigvecs2e.keys()):\n",
    "                plt.title('n = {}'.format(n))\n",
    "            if n == 2:\n",
    "                plt.text(1.03, 0.5, r'$\\omega_r$ = {}'.format(omega), transform=plt.gca().transAxes, \n",
    "                         rotation='vertical', ha='left', va='center')\n",
    "    plt.xlim(0, 10)\n",
    "\n",
    "    plt.tight_layout()\n",
    "    plt.savefig('wavefunctions.pdf')"
   ]
  },
  {
   "cell_type": "code",
   "execution_count": null,
   "metadata": {
    "collapsed": false
   },
   "outputs": [],
   "source": [
    "for i, v in eigvals2e.items():\n",
    "    print(i, np.sort(v)[:5])"
   ]
  },
  {
   "cell_type": "code",
   "execution_count": null,
   "metadata": {
    "collapsed": false
   },
   "outputs": [],
   "source": [
    "1 / 5"
   ]
  },
  {
   "cell_type": "code",
   "execution_count": null,
   "metadata": {
    "collapsed": false
   },
   "outputs": [],
   "source": [
    "np.sort(eigvals2e[0.01])[:3] * 2"
   ]
  },
  {
   "cell_type": "markdown",
   "metadata": {},
   "source": [
    "# Scaling"
   ]
  },
  {
   "cell_type": "code",
   "execution_count": null,
   "metadata": {
    "collapsed": true
   },
   "outputs": [],
   "source": [
    "from scipy.optimize import curve_fit"
   ]
  },
  {
   "cell_type": "code",
   "execution_count": null,
   "metadata": {
    "collapsed": false
   },
   "outputs": [],
   "source": [
    "scal = pd.read_csv('../outputs/scaling_iters.csv')"
   ]
  },
  {
   "cell_type": "code",
   "execution_count": null,
   "metadata": {
    "collapsed": true
   },
   "outputs": [],
   "source": [
    "def fitfunc(x, a, b):\n",
    "    return a*x**2 + b*x"
   ]
  },
  {
   "cell_type": "code",
   "execution_count": null,
   "metadata": {
    "collapsed": true
   },
   "outputs": [],
   "source": [
    "def powermodel(x, a, b):\n",
    "    return a*x**b\n",
    "def quadmodel(x, a, b, c):\n",
    "    return a*x**2 + b*x + c\n",
    "def cubemodel(x, a, b, c, d):\n",
    "    return a*x**3 + b*x**2 + c*x + d"
   ]
  },
  {
   "cell_type": "code",
   "execution_count": null,
   "metadata": {
    "collapsed": false
   },
   "outputs": [],
   "source": []
  },
  {
   "cell_type": "code",
   "execution_count": null,
   "metadata": {
    "collapsed": false
   },
   "outputs": [],
   "source": [
    "plt.figure(figsize=(colwidth, colwidth/1.5))\n",
    "plt.plot(scal.N, scal.iters, 'bo', label='Measurements')\n",
    "xs = np.linspace(0, 300, 100)\n",
    "fparam, fcov = curve_fit(quadmodel, scal.N, scal.iters)\n",
    "print(fparam)\n",
    "plt.plot(xs, quadmodel(xs, *fparam), 'b', label='Quadratic fit')\n",
    "sns.despine()\n",
    "# plt.loglog()\n",
    "# plt.grid(axis='y')\n",
    "plt.xlim(0, 310)\n",
    "plt.ylim(-2000, 160000)\n",
    "plt.ticklabel_format(axis='y', style='sci', scilimits=(0, 0))\n",
    "plt.xlabel('Dimension of matrix')\n",
    "plt.ylabel('Num. transformations')\n",
    "plt.legend(loc='upper left')\n",
    "plt.savefig('transformScaling.pdf', bbox_inches='tight')"
   ]
  },
  {
   "cell_type": "code",
   "execution_count": null,
   "metadata": {
    "collapsed": false
   },
   "outputs": [],
   "source": [
    "plt.plot(scal.N, scal.iters - quadmodel(scal.N, *fparam), 'o')"
   ]
  },
  {
   "cell_type": "code",
   "execution_count": null,
   "metadata": {
    "collapsed": false
   },
   "outputs": [],
   "source": [
    "plt.figure(figsize=(colwidth, colwidth/1.5))\n",
    "\n",
    "d = scal[scal.N >= 100]\n",
    "fp2, fc2 = curve_fit(powermodel, d.N.values, d.time.values)\n",
    "print(fp2)\n",
    "afp2, afc2 = curve_fit(powermodel, d.N.values, d.arma_time.values)\n",
    "print(afp2)\n",
    "\n",
    "xs = np.linspace(100, 300, 100)\n",
    "plt.plot(d.N, d.time, 'bo', label='Jacobi data')\n",
    "plt.plot(xs, powermodel(xs, *fp2), 'b-', label='Jacobi fit')\n",
    "plt.plot(d.N, d.arma_time, 'rs', label='Arma. data')\n",
    "plt.plot(xs, powermodel(xs, *afp2), 'r--', label='Arma. fit')\n",
    "plt.loglog()\n",
    "plt.xticks(np.arange(100, 310, 40), np.arange(100, 310, 40))\n",
    "\n",
    "# sns.despine()\n",
    "plt.grid(axis='both')\n",
    "\n",
    "plt.xlim(90, 310)\n",
    "plt.xlabel('Dimension of matrix')\n",
    "plt.ylabel('Time [s]')\n",
    "plt.legend(loc=2, frameon=True)\n",
    "\n",
    "plt.savefig('timing.pdf', bbox_inches='tight')"
   ]
  },
  {
   "cell_type": "code",
   "execution_count": null,
   "metadata": {
    "collapsed": false
   },
   "outputs": [],
   "source": [
    "fig, ax = plt.subplots(2, 1, sharex=True, sharey=False, squeeze=True)\n",
    "\n",
    "plt.sca(ax[0])\n",
    "plt.stem(d.N, d.time - powermodel(d.N, *fp2), linefmt='b-', markerfmt='bo', basefmt='b-')\n",
    "plt.xlim(90, 310)\n",
    "plt.hlines(0, *plt.xlim(), color='b')\n",
    "plt.ylim(-0.1, 0.1)\n",
    "plt.ylabel('Jacobi residual')\n",
    "\n",
    "plt.sca(ax[1])\n",
    "plt.stem(d.N, d.arma_time - powermodel(d.N, *afp2), linefmt='r-', markerfmt='rs', basefmt='r-')\n",
    "plt.hlines(0, *plt.xlim(), color='r')\n",
    "plt.ylim(-0.007, 0.007)\n",
    "plt.xlabel('Dimension of matrix')\n",
    "plt.ylabel('Arma. residual')\n",
    "\n",
    "# plt.tight_layout()"
   ]
  },
  {
   "cell_type": "code",
   "execution_count": null,
   "metadata": {
    "collapsed": false
   },
   "outputs": [],
   "source": [
    "fp2"
   ]
  },
  {
   "cell_type": "code",
   "execution_count": null,
   "metadata": {
    "collapsed": true
   },
   "outputs": [],
   "source": [
    "\n",
    "\n",
    "\n",
    "\n",
    "\n",
    "\n",
    "\n",
    "\n",
    "\n",
    "\n",
    "\n",
    "\n",
    "\n",
    "\n",
    "\n"
   ]
  }
 ],
 "metadata": {
  "kernelspec": {
   "display_name": "Python 3",
   "language": "python",
   "name": "python3"
  },
  "language_info": {
   "codemirror_mode": {
    "name": "ipython",
    "version": 3
   },
   "file_extension": ".py",
   "mimetype": "text/x-python",
   "name": "python",
   "nbconvert_exporter": "python",
   "pygments_lexer": "ipython3",
   "version": "3.5.1"
  }
 },
 "nbformat": 4,
 "nbformat_minor": 0
}
